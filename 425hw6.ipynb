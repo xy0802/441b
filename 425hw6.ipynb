{
  "cells": [
    {
      "cell_type": "markdown",
      "metadata": {
        "id": "view-in-github",
        "colab_type": "text"
      },
      "source": [
        "<a href=\"https://colab.research.google.com/github/xy0802/441b/blob/main/425hw6.ipynb\" target=\"_parent\"><img src=\"https://colab.research.google.com/assets/colab-badge.svg\" alt=\"Open In Colab\"/></a>"
      ]
    },
    {
      "cell_type": "markdown",
      "metadata": {
        "id": "wdRkvQ3qddj8"
      },
      "source": [
        "1 New York Stock Exchange (NYSE) data (1962-1986) (10 pts)"
      ]
    },
    {
      "cell_type": "code",
      "execution_count": 6,
      "metadata": {
        "id": "OusRXaRCwu7W"
      },
      "outputs": [],
      "source": [
        "# Load the pandas library\n",
        "import pandas as pd\n",
        "# Load numpy for array manipulation\n",
        "import numpy as np\n",
        "# Load seaborn plotting library\n",
        "import seaborn as sns\n",
        "import matplotlib.pyplot as plt\n",
        "# For read file from url\n",
        "import io\n",
        "import requests"
      ]
    },
    {
      "cell_type": "code",
      "execution_count": 2,
      "metadata": {
        "id": "QMG8_jf7w6fX"
      },
      "outputs": [],
      "source": [
        "# Set font sizes in plots\n",
        "sns.set(font_scale = 1.)\n",
        "# Display all columns\n",
        "pd.set_option('display.max_columns', None)"
      ]
    },
    {
      "cell_type": "code",
      "execution_count": 69,
      "metadata": {
        "colab": {
          "base_uri": "https://localhost:8080/",
          "height": 455
        },
        "id": "4i4LqTauw9Hk",
        "outputId": "82166eea-7b03-4204-a161-e067fadcee79"
      },
      "outputs": [
        {
          "output_type": "execute_result",
          "data": {
            "text/plain": [
              "           day_of_week  DJ_return  log_volume  log_volatility  train\n",
              "date                                                                \n",
              "1962-12-03         mon  -0.004461    0.032573      -13.127403   True\n",
              "1962-12-04        tues   0.007813    0.346202      -11.749305   True\n",
              "1962-12-05         wed   0.003845    0.525306      -11.665609   True\n",
              "1962-12-06        thur  -0.003462    0.210182      -11.626772   True\n",
              "1962-12-07         fri   0.000568    0.044187      -11.728130   True\n",
              "...                ...        ...         ...             ...    ...\n",
              "1986-12-24         wed   0.006514   -0.236104       -9.807366  False\n",
              "1986-12-26         fri   0.001825   -1.322425       -9.906025  False\n",
              "1986-12-29         mon  -0.009515   -0.371237       -9.827660  False\n",
              "1986-12-30        tues  -0.001837   -0.385638       -9.926091  False\n",
              "1986-12-31         wed  -0.006655   -0.264986       -9.935527  False\n",
              "\n",
              "[6051 rows x 5 columns]"
            ],
            "text/html": [
              "\n",
              "  <div id=\"df-d7fdd2ac-ef4e-4258-8fee-8d849f308291\">\n",
              "    <div class=\"colab-df-container\">\n",
              "      <div>\n",
              "<style scoped>\n",
              "    .dataframe tbody tr th:only-of-type {\n",
              "        vertical-align: middle;\n",
              "    }\n",
              "\n",
              "    .dataframe tbody tr th {\n",
              "        vertical-align: top;\n",
              "    }\n",
              "\n",
              "    .dataframe thead th {\n",
              "        text-align: right;\n",
              "    }\n",
              "</style>\n",
              "<table border=\"1\" class=\"dataframe\">\n",
              "  <thead>\n",
              "    <tr style=\"text-align: right;\">\n",
              "      <th></th>\n",
              "      <th>day_of_week</th>\n",
              "      <th>DJ_return</th>\n",
              "      <th>log_volume</th>\n",
              "      <th>log_volatility</th>\n",
              "      <th>train</th>\n",
              "    </tr>\n",
              "    <tr>\n",
              "      <th>date</th>\n",
              "      <th></th>\n",
              "      <th></th>\n",
              "      <th></th>\n",
              "      <th></th>\n",
              "      <th></th>\n",
              "    </tr>\n",
              "  </thead>\n",
              "  <tbody>\n",
              "    <tr>\n",
              "      <th>1962-12-03</th>\n",
              "      <td>mon</td>\n",
              "      <td>-0.004461</td>\n",
              "      <td>0.032573</td>\n",
              "      <td>-13.127403</td>\n",
              "      <td>True</td>\n",
              "    </tr>\n",
              "    <tr>\n",
              "      <th>1962-12-04</th>\n",
              "      <td>tues</td>\n",
              "      <td>0.007813</td>\n",
              "      <td>0.346202</td>\n",
              "      <td>-11.749305</td>\n",
              "      <td>True</td>\n",
              "    </tr>\n",
              "    <tr>\n",
              "      <th>1962-12-05</th>\n",
              "      <td>wed</td>\n",
              "      <td>0.003845</td>\n",
              "      <td>0.525306</td>\n",
              "      <td>-11.665609</td>\n",
              "      <td>True</td>\n",
              "    </tr>\n",
              "    <tr>\n",
              "      <th>1962-12-06</th>\n",
              "      <td>thur</td>\n",
              "      <td>-0.003462</td>\n",
              "      <td>0.210182</td>\n",
              "      <td>-11.626772</td>\n",
              "      <td>True</td>\n",
              "    </tr>\n",
              "    <tr>\n",
              "      <th>1962-12-07</th>\n",
              "      <td>fri</td>\n",
              "      <td>0.000568</td>\n",
              "      <td>0.044187</td>\n",
              "      <td>-11.728130</td>\n",
              "      <td>True</td>\n",
              "    </tr>\n",
              "    <tr>\n",
              "      <th>...</th>\n",
              "      <td>...</td>\n",
              "      <td>...</td>\n",
              "      <td>...</td>\n",
              "      <td>...</td>\n",
              "      <td>...</td>\n",
              "    </tr>\n",
              "    <tr>\n",
              "      <th>1986-12-24</th>\n",
              "      <td>wed</td>\n",
              "      <td>0.006514</td>\n",
              "      <td>-0.236104</td>\n",
              "      <td>-9.807366</td>\n",
              "      <td>False</td>\n",
              "    </tr>\n",
              "    <tr>\n",
              "      <th>1986-12-26</th>\n",
              "      <td>fri</td>\n",
              "      <td>0.001825</td>\n",
              "      <td>-1.322425</td>\n",
              "      <td>-9.906025</td>\n",
              "      <td>False</td>\n",
              "    </tr>\n",
              "    <tr>\n",
              "      <th>1986-12-29</th>\n",
              "      <td>mon</td>\n",
              "      <td>-0.009515</td>\n",
              "      <td>-0.371237</td>\n",
              "      <td>-9.827660</td>\n",
              "      <td>False</td>\n",
              "    </tr>\n",
              "    <tr>\n",
              "      <th>1986-12-30</th>\n",
              "      <td>tues</td>\n",
              "      <td>-0.001837</td>\n",
              "      <td>-0.385638</td>\n",
              "      <td>-9.926091</td>\n",
              "      <td>False</td>\n",
              "    </tr>\n",
              "    <tr>\n",
              "      <th>1986-12-31</th>\n",
              "      <td>wed</td>\n",
              "      <td>-0.006655</td>\n",
              "      <td>-0.264986</td>\n",
              "      <td>-9.935527</td>\n",
              "      <td>False</td>\n",
              "    </tr>\n",
              "  </tbody>\n",
              "</table>\n",
              "<p>6051 rows × 5 columns</p>\n",
              "</div>\n",
              "      <button class=\"colab-df-convert\" onclick=\"convertToInteractive('df-d7fdd2ac-ef4e-4258-8fee-8d849f308291')\"\n",
              "              title=\"Convert this dataframe to an interactive table.\"\n",
              "              style=\"display:none;\">\n",
              "        \n",
              "  <svg xmlns=\"http://www.w3.org/2000/svg\" height=\"24px\"viewBox=\"0 0 24 24\"\n",
              "       width=\"24px\">\n",
              "    <path d=\"M0 0h24v24H0V0z\" fill=\"none\"/>\n",
              "    <path d=\"M18.56 5.44l.94 2.06.94-2.06 2.06-.94-2.06-.94-.94-2.06-.94 2.06-2.06.94zm-11 1L8.5 8.5l.94-2.06 2.06-.94-2.06-.94L8.5 2.5l-.94 2.06-2.06.94zm10 10l.94 2.06.94-2.06 2.06-.94-2.06-.94-.94-2.06-.94 2.06-2.06.94z\"/><path d=\"M17.41 7.96l-1.37-1.37c-.4-.4-.92-.59-1.43-.59-.52 0-1.04.2-1.43.59L10.3 9.45l-7.72 7.72c-.78.78-.78 2.05 0 2.83L4 21.41c.39.39.9.59 1.41.59.51 0 1.02-.2 1.41-.59l7.78-7.78 2.81-2.81c.8-.78.8-2.07 0-2.86zM5.41 20L4 18.59l7.72-7.72 1.47 1.35L5.41 20z\"/>\n",
              "  </svg>\n",
              "      </button>\n",
              "      \n",
              "  <style>\n",
              "    .colab-df-container {\n",
              "      display:flex;\n",
              "      flex-wrap:wrap;\n",
              "      gap: 12px;\n",
              "    }\n",
              "\n",
              "    .colab-df-convert {\n",
              "      background-color: #E8F0FE;\n",
              "      border: none;\n",
              "      border-radius: 50%;\n",
              "      cursor: pointer;\n",
              "      display: none;\n",
              "      fill: #1967D2;\n",
              "      height: 32px;\n",
              "      padding: 0 0 0 0;\n",
              "      width: 32px;\n",
              "    }\n",
              "\n",
              "    .colab-df-convert:hover {\n",
              "      background-color: #E2EBFA;\n",
              "      box-shadow: 0px 1px 2px rgba(60, 64, 67, 0.3), 0px 1px 3px 1px rgba(60, 64, 67, 0.15);\n",
              "      fill: #174EA6;\n",
              "    }\n",
              "\n",
              "    [theme=dark] .colab-df-convert {\n",
              "      background-color: #3B4455;\n",
              "      fill: #D2E3FC;\n",
              "    }\n",
              "\n",
              "    [theme=dark] .colab-df-convert:hover {\n",
              "      background-color: #434B5C;\n",
              "      box-shadow: 0px 1px 3px 1px rgba(0, 0, 0, 0.15);\n",
              "      filter: drop-shadow(0px 1px 2px rgba(0, 0, 0, 0.3));\n",
              "      fill: #FFFFFF;\n",
              "    }\n",
              "  </style>\n",
              "\n",
              "      <script>\n",
              "        const buttonEl =\n",
              "          document.querySelector('#df-d7fdd2ac-ef4e-4258-8fee-8d849f308291 button.colab-df-convert');\n",
              "        buttonEl.style.display =\n",
              "          google.colab.kernel.accessAllowed ? 'block' : 'none';\n",
              "\n",
              "        async function convertToInteractive(key) {\n",
              "          const element = document.querySelector('#df-d7fdd2ac-ef4e-4258-8fee-8d849f308291');\n",
              "          const dataTable =\n",
              "            await google.colab.kernel.invokeFunction('convertToInteractive',\n",
              "                                                     [key], {});\n",
              "          if (!dataTable) return;\n",
              "\n",
              "          const docLinkHtml = 'Like what you see? Visit the ' +\n",
              "            '<a target=\"_blank\" href=https://colab.research.google.com/notebooks/data_table.ipynb>data table notebook</a>'\n",
              "            + ' to learn more about interactive tables.';\n",
              "          element.innerHTML = '';\n",
              "          dataTable['output_type'] = 'display_data';\n",
              "          await google.colab.output.renderOutput(dataTable, element);\n",
              "          const docLink = document.createElement('div');\n",
              "          docLink.innerHTML = docLinkHtml;\n",
              "          element.appendChild(docLink);\n",
              "        }\n",
              "      </script>\n",
              "    </div>\n",
              "  </div>\n",
              "  "
            ]
          },
          "metadata": {},
          "execution_count": 69
        }
      ],
      "source": [
        "# Read in NYSE data from url\n",
        "url = \"https://raw.githubusercontent.com/ucla-econ-425t/2023winter/master/slides/data/NYSE.csv\"\n",
        "s = requests.get(url).content.decode('utf-8')\n",
        "NYSE = pd.read_csv(io.StringIO(s), index_col = 0)\n",
        "NYSE"
      ]
    },
    {
      "cell_type": "code",
      "execution_count": null,
      "metadata": {
        "colab": {
          "base_uri": "https://localhost:8080/",
          "height": 302
        },
        "id": "oOZDC-fGw-FA",
        "outputId": "4827c633-2db8-4092-b867-d9c508880b31"
      },
      "outputs": [
        {
          "data": {
            "text/plain": [
              "<Figure size 432x288 with 0 Axes>"
            ]
          },
          "metadata": {},
          "output_type": "display_data"
        },
        {
          "data": {
            "image/png": "[encoded data removed]",
            "text/plain": [
              "<Figure size 432x288 with 1 Axes>"
            ]
          },
          "metadata": {},
          "output_type": "display_data"
        }
      ],
      "source": [
        "from statsmodels.graphics.tsaplots import plot_acf, plot_pacf\n",
        "\n",
        "plt.figure()\n",
        "plot_acf(NYSE['log_volume'], lags = 20)\n",
        "plt.show()"
      ]
    },
    {
      "cell_type": "code",
      "execution_count": null,
      "metadata": {
        "colab": {
          "base_uri": "https://localhost:8080/",
          "height": 302
        },
        "id": "2yy7hqLgcwSE",
        "outputId": "7d997c8b-b4f7-411e-c279-6fcfc09a3d32"
      },
      "outputs": [
        {
          "data": {
            "text/plain": [
              "<Figure size 432x288 with 0 Axes>"
            ]
          },
          "metadata": {},
          "output_type": "display_data"
        },
        {
          "data": {
            "image/png": "[encoded data removed]",
            "text/plain": [
              "<Figure size 432x288 with 1 Axes>"
            ]
          },
          "metadata": {},
          "output_type": "display_data"
        }
      ],
      "source": [
        "plt.figure()\n",
        "plot_acf(NYSE['DJ_return'], lags=20)\n",
        "plt.show()\n"
      ]
    },
    {
      "cell_type": "code",
      "execution_count": null,
      "metadata": {
        "colab": {
          "base_uri": "https://localhost:8080/",
          "height": 302
        },
        "id": "xaw9yNn8cwfy",
        "outputId": "8cd1c8e0-2bc2-463d-b5cc-3ebb9a6fefb5"
      },
      "outputs": [
        {
          "data": {
            "text/plain": [
              "<Figure size 432x288 with 0 Axes>"
            ]
          },
          "metadata": {},
          "output_type": "display_data"
        },
        {
          "data": {
            "image/png": "[encoded data removed]",
            "text/plain": [
              "<Figure size 432x288 with 1 Axes>"
            ]
          },
          "metadata": {},
          "output_type": "display_data"
        }
      ],
      "source": [
        "plt.figure()\n",
        "plot_acf(NYSE['log_volatility'], lags=20)\n",
        "plt.show()"
      ]
    },
    {
      "cell_type": "markdown",
      "metadata": {
        "id": "W8ux7S5gdgx5"
      },
      "source": [
        "3 Baseline method (20 pts)"
      ]
    },
    {
      "cell_type": "code",
      "execution_count": 8,
      "metadata": {
        "id": "4aw4ZNYAIdqX"
      },
      "outputs": [],
      "source": [
        "from sklearn.model_selection import TimeSeriesSplit\n",
        "from sklearn.linear_model import LinearRegression\n",
        "from sklearn.ensemble import RandomForestRegressor\n",
        "from sklearn.metrics import mean_absolute_error\n",
        "from sklearn.preprocessing import OneHotEncoder\n",
        "from sklearn.metrics import mean_absolute_error, r2_score"
      ]
    },
    {
      "cell_type": "code",
      "source": [
        "# One-hot encoding for 'day_of_week'\n",
        "encoder = OneHotEncoder(sparse=False)\n",
        "day_of_week_encoded = encoder.fit_transform(NYSE['day_of_week'].values.reshape(-1, 1))\n",
        "day_of_week_df = pd.DataFrame(day_of_week_encoded, columns=encoder.get_feature_names_out(['day_of_week']), index=NYSE.index)\n",
        "data = pd.concat([NYSE, day_of_week_df], axis=1).drop('day_of_week', axis=1)"
      ],
      "metadata": {
        "colab": {
          "base_uri": "https://localhost:8080/",
          "height": 0
        },
        "id": "r921NWuna16M",
        "outputId": "b9b89895-6129-4fd9-e245-1e80c984aaf6"
      },
      "execution_count": 70,
      "outputs": [
        {
          "output_type": "stream",
          "name": "stderr",
          "text": [
            "/usr/local/lib/python3.9/dist-packages/sklearn/preprocessing/_encoders.py:868: FutureWarning: `sparse` was renamed to `sparse_output` in version 1.2 and will be removed in 1.4. `sparse_output` is ignored unless you leave `sparse` to its default value.\n",
            "  warnings.warn(\n"
          ]
        }
      ]
    },
    {
      "cell_type": "code",
      "source": [
        "def create_lagged_features(df, column, lag_count):\n",
        "    for i in range(1, lag_count + 1):\n",
        "        df[f\"{column}_lag_{i}\"] = df[column].shift(i)\n",
        "    return df\n",
        "\n",
        "lag_count = 5\n",
        "NYSE = create_lagged_features(NYSE, 'log_volume', lag_count)\n",
        "\n",
        "# Remove rows with NaN values due to lag creation\n",
        "NYSE = NYSE.dropna()\n",
        "\n",
        "# Separate train and test data\n",
        "train_data = NYSE[NYSE['train']]\n",
        "test_data = NYSE[~NYSE['train']]\n",
        "\n",
        "# Prepare the feature and target variables\n",
        "X_train = train_data.loc[:, 'log_volume_lag_1':]\n",
        "y_train = train_data['log_volume']\n",
        "X_test = test_data.loc[:, 'log_volume_lag_1':]\n",
        "y_test = test_data['log_volume']\n",
        "\n",
        "# TimeSeriesSplit for cross-validation\n",
        "tscv = TimeSeriesSplit(n_splits=5)\n",
        "\n",
        "# Straw man prediction (yesterday's value)\n",
        "y_pred_train = X_train['log_volume_lag_1']\n",
        "y_pred_test = X_test['log_volume_lag_1']\n",
        "\n",
        "# Calculate R squared values for cross-validation and test data\n",
        "cv_r_squared = []\n",
        "for train_index, val_index in tscv.split(X_train):\n",
        "    X_train_cv, X_val_cv = X_train.iloc[train_index], X_train.iloc[val_index]\n",
        "    y_train_cv, y_val_cv = y_train.iloc[train_index], y_train.iloc[val_index]\n",
        "\n",
        "    y_pred_val = X_val_cv['log_volume_lag_1']\n",
        "    cv_r_squared.append(r2_score(y_val_cv, y_pred_val))\n",
        "\n",
        "cv_r_squared_mean = np.mean(cv_r_squared)\n",
        "test_r_squared = r2_score(y_test, y_pred_test)\n",
        "\n",
        "print(\"CV R squared:\", cv_r_squared_mean)\n",
        "print(\"Test R squared:\", test_r_squared)\n"
      ],
      "metadata": {
        "colab": {
          "base_uri": "https://localhost:8080/",
          "height": 0
        },
        "id": "hCaLPtDSa7sf",
        "outputId": "dc071681-411e-40be-fe03-ecaea5cf172f"
      },
      "execution_count": 71,
      "outputs": [
        {
          "output_type": "stream",
          "name": "stdout",
          "text": [
            "CV R squared: 0.4049559776613886\n",
            "Test R squared: 0.18026287838158628\n"
          ]
        }
      ]
    },
    {
      "cell_type": "markdown",
      "metadata": {
        "id": "zzV1YjsMdnVT"
      },
      "source": [
        "4 Autoregression (AR) forecaster (30 pts)"
      ]
    },
    {
      "cell_type": "code",
      "execution_count": 11,
      "metadata": {
        "id": "okA-9rV7dqgS"
      },
      "outputs": [],
      "source": [
        "from sklearn.linear_model import ElasticNetCV\n",
        "from sklearn.pipeline import make_pipeline\n",
        "from sklearn.preprocessing import StandardScaler\n",
        "from sklearn.metrics import r2_score\n",
        "from sklearn.linear_model import ElasticNet\n",
        "from sklearn.metrics import mean_squared_error"
      ]
    },
    {
      "cell_type": "code",
      "source": [
        "# Create pipeline\n",
        "pipeline = Pipeline([\n",
        "    ('model', ElasticNet())\n",
        "])\n",
        "\n",
        "# TimeSeriesSplit for cross-validation\n",
        "tscv = TimeSeriesSplit(n_splits=5)\n",
        "\n",
        "# Grid search for hyperparameter tuning\n",
        "param_grid = {\n",
        "    'model__alpha': np.logspace(-4, 4, 10),\n",
        "    'model__l1_ratio': np.linspace(0, 1, 11)\n",
        "}\n",
        "\n",
        "grid_search = GridSearchCV(pipeline, param_grid, scoring='r2', cv=tscv, n_jobs=-1)\n",
        "grid_search.fit(X_train, y_train)\n",
        "\n",
        "# Best hyperparameters\n",
        "print(\"Best hyperparameters:\", grid_search.best_params_)\n",
        "\n",
        "# Cross-validation R-squared\n",
        "print(\"CV R squared:\", grid_search.best_score_)\n",
        "\n",
        "# Test R-squared\n",
        "y_pred_test = grid_search.predict(X_test)\n",
        "test_r_squared = r2_score(y_test, y_pred_test)\n",
        "print(\"Test R squared:\", test_r_squared)"
      ],
      "metadata": {
        "colab": {
          "base_uri": "https://localhost:8080/",
          "height": 0
        },
        "id": "s7CcXiWoCliF",
        "outputId": "3cd1724b-93b0-4df2-956f-9361eea37f41"
      },
      "execution_count": 13,
      "outputs": [
        {
          "output_type": "stream",
          "name": "stdout",
          "text": [
            "Best hyperparameters: {'model__alpha': 0.000774263682681127, 'model__l1_ratio': 0.0}\n",
            "CV R squared: 0.5324014027658743\n",
            "Test R squared: 0.373839542749139\n"
          ]
        },
        {
          "output_type": "stream",
          "name": "stderr",
          "text": [
            "/usr/local/lib/python3.9/dist-packages/sklearn/linear_model/_coordinate_descent.py:631: ConvergenceWarning: Objective did not converge. You might want to increase the number of iterations, check the scale of the features or consider increasing regularisation. Duality gap: 5.265e+01, tolerance: 2.278e-02 Linear regression models with null weight for the l1 regularization term are more efficiently fitted using one of the solvers implemented in sklearn.linear_model.Ridge/RidgeCV instead.\n",
            "  model = cd_fast.enet_coordinate_descent(\n"
          ]
        }
      ]
    },
    {
      "cell_type": "markdown",
      "metadata": {
        "id": "11cHMudFkD8S"
      },
      "source": [
        "# 5.Autoregression by MLP (30 pts)"
      ]
    },
    {
      "cell_type": "code",
      "execution_count": 16,
      "metadata": {
        "id": "rtBWcF5Tdqu1"
      },
      "outputs": [],
      "source": [
        "from sklearn.neural_network import MLPRegressor\n",
        "from sklearn.preprocessing import StandardScaler\n",
        "from sklearn.pipeline import Pipeline"
      ]
    },
    {
      "cell_type": "code",
      "execution_count": 17,
      "metadata": {
        "colab": {
          "base_uri": "https://localhost:8080/",
          "height": 0
        },
        "id": "FatHb2SrkITo",
        "outputId": "13633c7b-4d87-4707-b3a4-e70aae660535"
      },
      "outputs": [
        {
          "output_type": "stream",
          "name": "stdout",
          "text": [
            "Best hyperparameters: {'model__activation': 'tanh', 'model__alpha': 0.001, 'model__hidden_layer_sizes': (50,), 'model__learning_rate': 'adaptive', 'model__solver': 'adam'}\n",
            "CV R squared: 0.5328331453289834\n",
            "Test R squared: 0.36832279213467467\n"
          ]
        }
      ],
      "source": [
        "# Create pipeline\n",
        "pipeline = Pipeline([\n",
        "    ('model', MLPRegressor())\n",
        "])\n",
        "\n",
        "# TimeSeriesSplit for cross-validation\n",
        "tscv = TimeSeriesSplit(n_splits=5)\n",
        "\n",
        "# Grid search for hyperparameter tuning\n",
        "param_grid = {\n",
        "    'model__hidden_layer_sizes': [(50,), (100,), (50, 50)],\n",
        "    'model__activation': ['relu', 'tanh'],\n",
        "    'model__solver': ['adam'],\n",
        "    'model__alpha': np.logspace(-4, 2, 7),\n",
        "    'model__learning_rate': ['constant', 'adaptive']\n",
        "}\n",
        "\n",
        "grid_search = GridSearchCV(pipeline, param_grid, scoring='r2', cv=tscv, n_jobs=-1)\n",
        "grid_search.fit(X_train, y_train)\n",
        "\n",
        "# Best hyperparameters\n",
        "print(\"Best hyperparameters:\", grid_search.best_params_)\n",
        "\n",
        "# Cross-validation R-squared\n",
        "print(\"CV R squared:\", grid_search.best_score_)\n",
        "\n",
        "# Test R-squared\n",
        "y_pred_test = grid_search.predict(X_test)\n",
        "test_r_squared = r2_score(y_test, y_pred_test)\n",
        "print(\"Test R squared:\", test_r_squared)\n",
        "\n"
      ]
    },
    {
      "cell_type": "markdown",
      "metadata": {
        "id": "Xs3jyukLLDn3"
      },
      "source": [
        "6 LSTM forecaster (30 pts)"
      ]
    },
    {
      "cell_type": "code",
      "source": [
        "import pandas as pd\n",
        "import numpy as np\n",
        "import requests\n",
        "import io\n",
        "from sklearn.model_selection import TimeSeriesSplit, GridSearchCV\n",
        "from sklearn.metrics import r2_score\n",
        "from sklearn.preprocessing import StandardScaler\n",
        "from tensorflow.keras.models import Sequential\n",
        "from tensorflow.keras.layers import Dense, LSTM\n",
        "from tensorflow.keras.wrappers.scikit_learn import KerasRegressor\n"
      ],
      "metadata": {
        "id": "mFExYJ4y3SRf"
      },
      "execution_count": 63,
      "outputs": []
    },
    {
      "cell_type": "code",
      "source": [
        "# Function to reshape input data for LSTM\n",
        "def reshape_data_for_lstm(X, n_steps):\n",
        "    return X.reshape((X.shape[0], n_steps, -1))\n",
        "\n",
        "# Function to create an LSTM model for use in KerasRegressor\n",
        "def create_lstm_model(units=50, activation='relu', optimizer='adam'):\n",
        "    model = Sequential()\n",
        "    model.add(LSTM(units, activation=activation, input_shape=(X_train_lstm.shape[1], X_train_lstm.shape[2])))\n",
        "    model.add(Dense(1))\n",
        "    model.compile(optimizer=optimizer, loss='mean_squared_error')\n",
        "    return model\n",
        "\n",
        "# Prepare the input data for LSTM\n",
        "scaler = StandardScaler()\n",
        "X_train_scaled = scaler.fit_transform(X_train)\n",
        "X_test_scaled = scaler.transform(X_test)\n",
        "\n",
        "n_steps = 5\n",
        "X_train_lstm = reshape_data_for_lstm(X_train_scaled, n_steps)\n",
        "X_test_lstm = reshape_data_for_lstm(X_test_scaled, n_steps)\n",
        "\n",
        "# TimeSeriesSplit for cross-validation\n",
        "tscv = TimeSeriesSplit(n_splits=5)\n",
        "\n",
        "# Grid search for hyperparameter tuning\n",
        "param_grid = {\n",
        "    'units': [50, 100],\n",
        "    'activation': ['relu', 'tanh'],\n",
        "    'optimizer': ['adam'],\n",
        "    'epochs': [10, 20],\n",
        "    'batch_size': [32, 64]\n",
        "}\n",
        "\n",
        "lstm_model = KerasRegressor(build_fn=create_lstm_model, verbose=0)\n",
        "grid_search = GridSearchCV(lstm_model, param_grid, scoring='r2', cv=tscv, n_jobs=-1)\n",
        "grid_search.fit(X_train_lstm, y_train)\n",
        "\n",
        "# Best hyperparameters\n",
        "print(\"Best hyperparameters:\", grid_search.best_params_)\n",
        "\n",
        "# Cross-validation R-squared\n",
        "print(\"CV R squared:\", grid_search.best_score_)\n",
        "\n",
        "# Test R-squared\n",
        "y_pred_test = grid_search.predict(X_test_lstm)\n",
        "test_r_squared = r2_score(y_test, y_pred_test)\n",
        "print(\"Test R squared:\", test_r_squared)\n"
      ],
      "metadata": {
        "colab": {
          "base_uri": "https://localhost:8080/",
          "height": 0
        },
        "id": "xl-q26Xr3W8B",
        "outputId": "41d6c737-2d59-43ef-c798-c0c4b6cf17d6"
      },
      "execution_count": 67,
      "outputs": [
        {
          "output_type": "stream",
          "name": "stderr",
          "text": [
            "<ipython-input-67-1b0a47f79440>:34: DeprecationWarning: KerasRegressor is deprecated, use Sci-Keras (https://github.com/adriangb/scikeras) instead. See https://www.adriangb.com/scikeras/stable/migration.html for help migrating.\n",
            "  lstm_model = KerasRegressor(build_fn=create_lstm_model, verbose=0)\n",
            "/usr/local/lib/python3.9/dist-packages/joblib/externals/loky/process_executor.py:702: UserWarning: A worker stopped while some jobs were given to the executor. This can be caused by a too short worker timeout or by a memory leak.\n",
            "  warnings.warn(\n"
          ]
        },
        {
          "output_type": "stream",
          "name": "stdout",
          "text": [
            "Best hyperparameters: {'activation': 'relu', 'batch_size': 32, 'epochs': 20, 'optimizer': 'adam', 'units': 100}\n",
            "CV R squared: 0.5196978438661425\n",
            "Test R squared: 0.37669015240886217\n"
          ]
        }
      ]
    },
    {
      "cell_type": "markdown",
      "metadata": {
        "id": "SAgwZ6YqLJZX"
      },
      "source": [
        "7 Random forest forecaster (30pts)"
      ]
    },
    {
      "cell_type": "code",
      "source": [
        "from sklearn.ensemble import RandomForestRegressor\n",
        "# Create pipeline\n",
        "pipeline = Pipeline([\n",
        "    ('model', RandomForestRegressor(random_state=42))\n",
        "])\n",
        "\n",
        "# TimeSeriesSplit for cross-validation\n",
        "tscv = TimeSeriesSplit(n_splits=5)\n",
        "\n",
        "# Grid search for hyperparameter tuning\n",
        "param_grid = {\n",
        "    'model__n_estimators': [50, 100, 200],\n",
        "    'model__max_depth': [None, 10, 20],\n",
        "    'model__min_samples_split': [2, 5, 10],\n",
        "    'model__min_samples_leaf': [1, 2, 4]\n",
        "}\n",
        "\n",
        "grid_search = GridSearchCV(pipeline, param_grid, scoring='r2', cv=tscv, n_jobs=-1)\n",
        "grid_search.fit(X_train, y_train)\n",
        "\n",
        "# Best hyperparameters\n",
        "print(\"Best hyperparameters:\", grid_search.best_params_)\n",
        "\n",
        "# Cross-validation R-squared\n",
        "print(\"CV R squared:\", grid_search.best_score_)\n",
        "\n",
        "# Test R-squared\n",
        "y_pred_test = grid_search.predict(X_test)\n",
        "test_r_squared = r2_score(y_test, y_pred_test)\n",
        "print(\"Test R squared:\", test_r_squared)\n"
      ],
      "metadata": {
        "colab": {
          "base_uri": "https://localhost:8080/",
          "height": 0
        },
        "id": "pXx9SU_sin8H",
        "outputId": "01ae9d22-69ae-4e67-fa2a-1f0f9ef22aec"
      },
      "execution_count": 72,
      "outputs": [
        {
          "output_type": "stream",
          "name": "stdout",
          "text": [
            "Best hyperparameters: {'model__max_depth': 10, 'model__min_samples_leaf': 4, 'model__min_samples_split': 10, 'model__n_estimators': 100}\n",
            "CV R squared: 0.5076266094580537\n",
            "Test R squared: 0.34337233945755863\n"
          ]
        }
      ]
    },
    {
      "cell_type": "markdown",
      "metadata": {
        "id": "P7gaLVMZLN7s"
      },
      "source": [
        "8 Boosting forecaster (30pts)"
      ]
    },
    {
      "cell_type": "code",
      "execution_count": 73,
      "metadata": {
        "id": "Mycj_c9lNjfc",
        "colab": {
          "base_uri": "https://localhost:8080/",
          "height": 0
        },
        "outputId": "91ffd327-5d8e-4566-825c-93e4df48c72c"
      },
      "outputs": [
        {
          "output_type": "stream",
          "name": "stdout",
          "text": [
            "Best hyperparameters: {'model__learning_rate': 0.1, 'model__max_depth': 3, 'model__min_samples_leaf': 4, 'model__min_samples_split': 2, 'model__n_estimators': 50}\n",
            "CV R squared: 0.5086521209881641\n",
            "Test R squared: 0.37261011928670285\n"
          ]
        }
      ],
      "source": [
        "from sklearn.ensemble import GradientBoostingRegressor\n",
        "\n",
        "# Create preprocessor with one-hot encoding for day_of_week column and feature scaling\n",
        "\n",
        "# Create pipeline\n",
        "pipeline = Pipeline([\n",
        "    ('model', GradientBoostingRegressor(random_state=42))\n",
        "])\n",
        "\n",
        "# TimeSeriesSplit for cross-validation\n",
        "tscv = TimeSeriesSplit(n_splits=5)\n",
        "\n",
        "# Grid search for hyperparameter tuning\n",
        "param_grid = {\n",
        "    'model__n_estimators': [50, 100, 200],\n",
        "    'model__learning_rate': [0.01, 0.1, 0.2],\n",
        "    'model__max_depth': [3, 5, 7],\n",
        "    'model__min_samples_split': [2, 5, 10],\n",
        "    'model__min_samples_leaf': [1, 2, 4]\n",
        "}\n",
        "\n",
        "grid_search = GridSearchCV(pipeline, param_grid, scoring='r2', cv=tscv, n_jobs=-1)\n",
        "grid_search.fit(X_train, y_train)\n",
        "\n",
        "# Best hyperparameters\n",
        "print(\"Best hyperparameters:\", grid_search.best_params_)\n",
        "\n",
        "# Cross-validation R-squared\n",
        "print(\"CV R squared:\", grid_search.best_score_)\n",
        "\n",
        "# Test R-squared\n",
        "y_pred_test = grid_search.predict(X_test)\n",
        "test_r_squared = r2_score(y_test, y_pred_test)\n",
        "print(\"Test R squared:\", test_r_squared)\n"
      ]
    },
    {
      "cell_type": "code",
      "source": [],
      "metadata": {
        "id": "XizfadlfAxOH"
      },
      "execution_count": null,
      "outputs": []
    },
    {
      "cell_type": "markdown",
      "metadata": {
        "id": "aVe5zpizLN43"
      },
      "source": [
        "9 Summary (30pts)"
      ]
    },
    {
      "cell_type": "code",
      "execution_count": 74,
      "metadata": {
        "id": "URTcF6njK_Tg",
        "colab": {
          "base_uri": "https://localhost:8080/",
          "height": 0
        },
        "outputId": "402ab90a-24cd-426d-b204-bf1224014916"
      },
      "outputs": [
        {
          "output_type": "stream",
          "name": "stdout",
          "text": [
            "          Method  CV R^2  Test R^2\n",
            "0       Baseline  0.4050    0.1802\n",
            "1          AR(5)  0.5324    0.3738\n",
            "2      AR(5) MLP  0.5328    0.3683\n",
            "3           LSTM  0.5197    0.3767\n",
            "4  Random Forest  0.5076    0.3434\n",
            "5       Boosting  0.5087    0.3726\n"
          ]
        }
      ],
      "source": [
        "import pandas as pd\n",
        "\n",
        "# Replace these example R-squared values with the actual values from your models\n",
        "results = {\n",
        "    'Method': ['Baseline', 'AR(5)', 'AR(5) MLP', 'LSTM', 'Random Forest', 'Boosting'],\n",
        "    'CV R^2': [0.4050, 0.5324, 0.5328, 0.5197, 0.5076, 0.5087],\n",
        "    'Test R^2': [0.1802, 0.3738, 0.3683, 0.3767, 0.3434, 0.3726]\n",
        "}\n",
        "\n",
        "# Create a DataFrame to display the results\n",
        "results_df = pd.DataFrame(results)\n",
        "print(results_df)\n"
      ]
    },
    {
      "cell_type": "code",
      "execution_count": null,
      "metadata": {
        "id": "p9zSQAYlK_V2"
      },
      "outputs": [],
      "source": []
    },
    {
      "cell_type": "code",
      "execution_count": null,
      "metadata": {
        "id": "AXoWFmudK_e_"
      },
      "outputs": [],
      "source": []
    }
  ],
  "metadata": {
    "colab": {
      "provenance": [],
      "authorship_tag": "ABX9TyOQGHLD33v6+nxA2CqL5SYm",
      "include_colab_link": true
    },
    "kernelspec": {
      "display_name": "Python 3",
      "name": "python3"
    },
    "language_info": {
      "name": "python"
    }
  },
  "nbformat": 4,
  "nbformat_minor": 0
}